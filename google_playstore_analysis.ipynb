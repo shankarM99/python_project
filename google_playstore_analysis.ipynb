{
 "cells": [
  {
   "cell_type": "markdown",
   "id": "43995119",
   "metadata": {},
   "source": [
    "#  EDA & Data Preprocessing on Google App Store Rating Dataset"
   ]
  },
  {
   "cell_type": "markdown",
   "id": "19305b11",
   "metadata": {},
   "source": [
    "* Objective:\n",
    "\n",
    "\n",
    "           The Goal is to explore the data and pre-process it for future use in any predictive analytics study."
   ]
  },
  {
   "cell_type": "code",
   "execution_count": null,
   "id": "ae337cd9",
   "metadata": {},
   "outputs": [],
   "source": []
  },
  {
   "cell_type": "markdown",
   "id": "9ba937b0",
   "metadata": {},
   "source": [
    "# 1. Import required libraries and read the dataset. (2 marks) "
   ]
  },
  {
   "cell_type": "code",
   "execution_count": 1,
   "id": "6d244a0a",
   "metadata": {},
   "outputs": [],
   "source": [
    "import pandas as p\n",
    "import numpy as n\n",
    "import matplotlib.pyplot as pl\n",
    "import warnings\n",
    "warnings.filterwarnings('ignore')\n",
    "\n",
    "import seaborn as sns"
   ]
  },
  {
   "cell_type": "markdown",
   "id": "1420b308",
   "metadata": {},
   "source": [
    "# 2. Check the first few samples, shape, info of the data and try to familiarize yourself with different features. (2 marks) \n"
   ]
  },
  {
   "cell_type": "code",
   "execution_count": 2,
   "id": "8edc38b1",
   "metadata": {},
   "outputs": [],
   "source": [
    "data=p.read_csv(\"Apps_data.csv\")\n",
    "app=data.copy()"
   ]
  },
  {
   "cell_type": "code",
   "execution_count": 3,
   "id": "3bf89d0e",
   "metadata": {},
   "outputs": [
    {
     "data": {
      "text/html": [
       "<div>\n",
       "<style scoped>\n",
       "    .dataframe tbody tr th:only-of-type {\n",
       "        vertical-align: middle;\n",
       "    }\n",
       "\n",
       "    .dataframe tbody tr th {\n",
       "        vertical-align: top;\n",
       "    }\n",
       "\n",
       "    .dataframe thead th {\n",
       "        text-align: right;\n",
       "    }\n",
       "</style>\n",
       "<table border=\"1\" class=\"dataframe\">\n",
       "  <thead>\n",
       "    <tr style=\"text-align: right;\">\n",
       "      <th></th>\n",
       "      <th>App</th>\n",
       "      <th>Category</th>\n",
       "      <th>Rating</th>\n",
       "      <th>Reviews</th>\n",
       "      <th>Size</th>\n",
       "      <th>Installs</th>\n",
       "      <th>Type</th>\n",
       "      <th>Price</th>\n",
       "      <th>Content Rating</th>\n",
       "      <th>Genres</th>\n",
       "      <th>Last Updated</th>\n",
       "      <th>Current Ver</th>\n",
       "      <th>Android Ver</th>\n",
       "    </tr>\n",
       "  </thead>\n",
       "  <tbody>\n",
       "    <tr>\n",
       "      <th>0</th>\n",
       "      <td>Photo Editor &amp; Candy Camera &amp; Grid &amp; ScrapBook</td>\n",
       "      <td>ART_AND_DESIGN</td>\n",
       "      <td>4.1</td>\n",
       "      <td>159</td>\n",
       "      <td>19M</td>\n",
       "      <td>10,000+</td>\n",
       "      <td>Free</td>\n",
       "      <td>0</td>\n",
       "      <td>Everyone</td>\n",
       "      <td>Art &amp; Design</td>\n",
       "      <td>January 7, 2018</td>\n",
       "      <td>1.0.0</td>\n",
       "      <td>4.0.3 and up</td>\n",
       "    </tr>\n",
       "    <tr>\n",
       "      <th>1</th>\n",
       "      <td>Coloring book moana</td>\n",
       "      <td>ART_AND_DESIGN</td>\n",
       "      <td>3.9</td>\n",
       "      <td>967</td>\n",
       "      <td>14M</td>\n",
       "      <td>500,000+</td>\n",
       "      <td>Free</td>\n",
       "      <td>0</td>\n",
       "      <td>Everyone</td>\n",
       "      <td>Art &amp; Design;Pretend Play</td>\n",
       "      <td>January 15, 2018</td>\n",
       "      <td>2.0.0</td>\n",
       "      <td>4.0.3 and up</td>\n",
       "    </tr>\n",
       "    <tr>\n",
       "      <th>2</th>\n",
       "      <td>U Launcher Lite – FREE Live Cool Themes, Hide ...</td>\n",
       "      <td>ART_AND_DESIGN</td>\n",
       "      <td>4.7</td>\n",
       "      <td>87510</td>\n",
       "      <td>8.7M</td>\n",
       "      <td>5,000,000+</td>\n",
       "      <td>Free</td>\n",
       "      <td>0</td>\n",
       "      <td>Everyone</td>\n",
       "      <td>Art &amp; Design</td>\n",
       "      <td>August 1, 2018</td>\n",
       "      <td>1.2.4</td>\n",
       "      <td>4.0.3 and up</td>\n",
       "    </tr>\n",
       "    <tr>\n",
       "      <th>3</th>\n",
       "      <td>Sketch - Draw &amp; Paint</td>\n",
       "      <td>ART_AND_DESIGN</td>\n",
       "      <td>4.5</td>\n",
       "      <td>215644</td>\n",
       "      <td>25M</td>\n",
       "      <td>50,000,000+</td>\n",
       "      <td>Free</td>\n",
       "      <td>0</td>\n",
       "      <td>Teen</td>\n",
       "      <td>Art &amp; Design</td>\n",
       "      <td>June 8, 2018</td>\n",
       "      <td>Varies with device</td>\n",
       "      <td>4.2 and up</td>\n",
       "    </tr>\n",
       "    <tr>\n",
       "      <th>4</th>\n",
       "      <td>Pixel Draw - Number Art Coloring Book</td>\n",
       "      <td>ART_AND_DESIGN</td>\n",
       "      <td>4.3</td>\n",
       "      <td>967</td>\n",
       "      <td>2.8M</td>\n",
       "      <td>100,000+</td>\n",
       "      <td>Free</td>\n",
       "      <td>0</td>\n",
       "      <td>Everyone</td>\n",
       "      <td>Art &amp; Design;Creativity</td>\n",
       "      <td>June 20, 2018</td>\n",
       "      <td>1.1</td>\n",
       "      <td>4.4 and up</td>\n",
       "    </tr>\n",
       "  </tbody>\n",
       "</table>\n",
       "</div>"
      ],
      "text/plain": [
       "                                                 App        Category  Rating  \\\n",
       "0     Photo Editor & Candy Camera & Grid & ScrapBook  ART_AND_DESIGN     4.1   \n",
       "1                                Coloring book moana  ART_AND_DESIGN     3.9   \n",
       "2  U Launcher Lite – FREE Live Cool Themes, Hide ...  ART_AND_DESIGN     4.7   \n",
       "3                              Sketch - Draw & Paint  ART_AND_DESIGN     4.5   \n",
       "4              Pixel Draw - Number Art Coloring Book  ART_AND_DESIGN     4.3   \n",
       "\n",
       "  Reviews  Size     Installs  Type Price Content Rating  \\\n",
       "0     159   19M      10,000+  Free     0       Everyone   \n",
       "1     967   14M     500,000+  Free     0       Everyone   \n",
       "2   87510  8.7M   5,000,000+  Free     0       Everyone   \n",
       "3  215644   25M  50,000,000+  Free     0           Teen   \n",
       "4     967  2.8M     100,000+  Free     0       Everyone   \n",
       "\n",
       "                      Genres      Last Updated         Current Ver  \\\n",
       "0               Art & Design   January 7, 2018               1.0.0   \n",
       "1  Art & Design;Pretend Play  January 15, 2018               2.0.0   \n",
       "2               Art & Design    August 1, 2018               1.2.4   \n",
       "3               Art & Design      June 8, 2018  Varies with device   \n",
       "4    Art & Design;Creativity     June 20, 2018                 1.1   \n",
       "\n",
       "    Android Ver  \n",
       "0  4.0.3 and up  \n",
       "1  4.0.3 and up  \n",
       "2  4.0.3 and up  \n",
       "3    4.2 and up  \n",
       "4    4.4 and up  "
      ]
     },
     "execution_count": 3,
     "metadata": {},
     "output_type": "execute_result"
    }
   ],
   "source": [
    "app.head(5)"
   ]
  },
  {
   "cell_type": "code",
   "execution_count": 4,
   "id": "90ebae6c",
   "metadata": {},
   "outputs": [
    {
     "data": {
      "text/plain": [
       "(10841, 13)"
      ]
     },
     "execution_count": 4,
     "metadata": {},
     "output_type": "execute_result"
    }
   ],
   "source": [
    "app.shape"
   ]
  },
  {
   "cell_type": "code",
   "execution_count": 5,
   "id": "1be4d9aa",
   "metadata": {},
   "outputs": [
    {
     "name": "stdout",
     "output_type": "stream",
     "text": [
      "<class 'pandas.core.frame.DataFrame'>\n",
      "RangeIndex: 10841 entries, 0 to 10840\n",
      "Data columns (total 13 columns):\n",
      " #   Column          Non-Null Count  Dtype  \n",
      "---  ------          --------------  -----  \n",
      " 0   App             10841 non-null  object \n",
      " 1   Category        10841 non-null  object \n",
      " 2   Rating          9367 non-null   float64\n",
      " 3   Reviews         10841 non-null  object \n",
      " 4   Size            10841 non-null  object \n",
      " 5   Installs        10841 non-null  object \n",
      " 6   Type            10840 non-null  object \n",
      " 7   Price           10841 non-null  object \n",
      " 8   Content Rating  10840 non-null  object \n",
      " 9   Genres          10841 non-null  object \n",
      " 10  Last Updated    10841 non-null  object \n",
      " 11  Current Ver     10833 non-null  object \n",
      " 12  Android Ver     10838 non-null  object \n",
      "dtypes: float64(1), object(12)\n",
      "memory usage: 1.1+ MB\n"
     ]
    }
   ],
   "source": [
    "app.info()"
   ]
  },
  {
   "cell_type": "markdown",
   "id": "51258f33",
   "metadata": {},
   "source": [
    "* In this app_dataset there are 10841 rows and 13 columns\n",
    "\n",
    "*  It consist of one numerical float variable data column and 12 different object categorical column\n",
    "\n",
    "* These 12 categorical columns are to be treated and cleaned during the below process"
   ]
  },
  {
   "cell_type": "markdown",
   "id": "96666647",
   "metadata": {},
   "source": [
    "# 3. Check summary statistics of the dataset. List out the columns that need to be worked upon for model building. (2 marks) "
   ]
  },
  {
   "cell_type": "code",
   "execution_count": 6,
   "id": "0ff53b9a",
   "metadata": {},
   "outputs": [
    {
     "data": {
      "text/html": [
       "<div>\n",
       "<style scoped>\n",
       "    .dataframe tbody tr th:only-of-type {\n",
       "        vertical-align: middle;\n",
       "    }\n",
       "\n",
       "    .dataframe tbody tr th {\n",
       "        vertical-align: top;\n",
       "    }\n",
       "\n",
       "    .dataframe thead th {\n",
       "        text-align: right;\n",
       "    }\n",
       "</style>\n",
       "<table border=\"1\" class=\"dataframe\">\n",
       "  <thead>\n",
       "    <tr style=\"text-align: right;\">\n",
       "      <th></th>\n",
       "      <th>count</th>\n",
       "      <th>unique</th>\n",
       "      <th>top</th>\n",
       "      <th>freq</th>\n",
       "      <th>mean</th>\n",
       "      <th>std</th>\n",
       "      <th>min</th>\n",
       "      <th>25%</th>\n",
       "      <th>50%</th>\n",
       "      <th>75%</th>\n",
       "      <th>max</th>\n",
       "    </tr>\n",
       "  </thead>\n",
       "  <tbody>\n",
       "    <tr>\n",
       "      <th>App</th>\n",
       "      <td>10841</td>\n",
       "      <td>9660</td>\n",
       "      <td>ROBLOX</td>\n",
       "      <td>9</td>\n",
       "      <td>NaN</td>\n",
       "      <td>NaN</td>\n",
       "      <td>NaN</td>\n",
       "      <td>NaN</td>\n",
       "      <td>NaN</td>\n",
       "      <td>NaN</td>\n",
       "      <td>NaN</td>\n",
       "    </tr>\n",
       "    <tr>\n",
       "      <th>Category</th>\n",
       "      <td>10841</td>\n",
       "      <td>34</td>\n",
       "      <td>FAMILY</td>\n",
       "      <td>1972</td>\n",
       "      <td>NaN</td>\n",
       "      <td>NaN</td>\n",
       "      <td>NaN</td>\n",
       "      <td>NaN</td>\n",
       "      <td>NaN</td>\n",
       "      <td>NaN</td>\n",
       "      <td>NaN</td>\n",
       "    </tr>\n",
       "    <tr>\n",
       "      <th>Rating</th>\n",
       "      <td>9367.0</td>\n",
       "      <td>NaN</td>\n",
       "      <td>NaN</td>\n",
       "      <td>NaN</td>\n",
       "      <td>4.193338</td>\n",
       "      <td>0.537431</td>\n",
       "      <td>1.0</td>\n",
       "      <td>4.0</td>\n",
       "      <td>4.3</td>\n",
       "      <td>4.5</td>\n",
       "      <td>19.0</td>\n",
       "    </tr>\n",
       "    <tr>\n",
       "      <th>Reviews</th>\n",
       "      <td>10841</td>\n",
       "      <td>6002</td>\n",
       "      <td>0</td>\n",
       "      <td>596</td>\n",
       "      <td>NaN</td>\n",
       "      <td>NaN</td>\n",
       "      <td>NaN</td>\n",
       "      <td>NaN</td>\n",
       "      <td>NaN</td>\n",
       "      <td>NaN</td>\n",
       "      <td>NaN</td>\n",
       "    </tr>\n",
       "    <tr>\n",
       "      <th>Size</th>\n",
       "      <td>10841</td>\n",
       "      <td>462</td>\n",
       "      <td>Varies with device</td>\n",
       "      <td>1695</td>\n",
       "      <td>NaN</td>\n",
       "      <td>NaN</td>\n",
       "      <td>NaN</td>\n",
       "      <td>NaN</td>\n",
       "      <td>NaN</td>\n",
       "      <td>NaN</td>\n",
       "      <td>NaN</td>\n",
       "    </tr>\n",
       "    <tr>\n",
       "      <th>Installs</th>\n",
       "      <td>10841</td>\n",
       "      <td>22</td>\n",
       "      <td>1,000,000+</td>\n",
       "      <td>1579</td>\n",
       "      <td>NaN</td>\n",
       "      <td>NaN</td>\n",
       "      <td>NaN</td>\n",
       "      <td>NaN</td>\n",
       "      <td>NaN</td>\n",
       "      <td>NaN</td>\n",
       "      <td>NaN</td>\n",
       "    </tr>\n",
       "    <tr>\n",
       "      <th>Type</th>\n",
       "      <td>10840</td>\n",
       "      <td>3</td>\n",
       "      <td>Free</td>\n",
       "      <td>10039</td>\n",
       "      <td>NaN</td>\n",
       "      <td>NaN</td>\n",
       "      <td>NaN</td>\n",
       "      <td>NaN</td>\n",
       "      <td>NaN</td>\n",
       "      <td>NaN</td>\n",
       "      <td>NaN</td>\n",
       "    </tr>\n",
       "    <tr>\n",
       "      <th>Price</th>\n",
       "      <td>10841</td>\n",
       "      <td>93</td>\n",
       "      <td>0</td>\n",
       "      <td>10040</td>\n",
       "      <td>NaN</td>\n",
       "      <td>NaN</td>\n",
       "      <td>NaN</td>\n",
       "      <td>NaN</td>\n",
       "      <td>NaN</td>\n",
       "      <td>NaN</td>\n",
       "      <td>NaN</td>\n",
       "    </tr>\n",
       "    <tr>\n",
       "      <th>Content Rating</th>\n",
       "      <td>10840</td>\n",
       "      <td>6</td>\n",
       "      <td>Everyone</td>\n",
       "      <td>8714</td>\n",
       "      <td>NaN</td>\n",
       "      <td>NaN</td>\n",
       "      <td>NaN</td>\n",
       "      <td>NaN</td>\n",
       "      <td>NaN</td>\n",
       "      <td>NaN</td>\n",
       "      <td>NaN</td>\n",
       "    </tr>\n",
       "    <tr>\n",
       "      <th>Genres</th>\n",
       "      <td>10841</td>\n",
       "      <td>120</td>\n",
       "      <td>Tools</td>\n",
       "      <td>842</td>\n",
       "      <td>NaN</td>\n",
       "      <td>NaN</td>\n",
       "      <td>NaN</td>\n",
       "      <td>NaN</td>\n",
       "      <td>NaN</td>\n",
       "      <td>NaN</td>\n",
       "      <td>NaN</td>\n",
       "    </tr>\n",
       "    <tr>\n",
       "      <th>Last Updated</th>\n",
       "      <td>10841</td>\n",
       "      <td>1378</td>\n",
       "      <td>August 3, 2018</td>\n",
       "      <td>326</td>\n",
       "      <td>NaN</td>\n",
       "      <td>NaN</td>\n",
       "      <td>NaN</td>\n",
       "      <td>NaN</td>\n",
       "      <td>NaN</td>\n",
       "      <td>NaN</td>\n",
       "      <td>NaN</td>\n",
       "    </tr>\n",
       "    <tr>\n",
       "      <th>Current Ver</th>\n",
       "      <td>10833</td>\n",
       "      <td>2832</td>\n",
       "      <td>Varies with device</td>\n",
       "      <td>1459</td>\n",
       "      <td>NaN</td>\n",
       "      <td>NaN</td>\n",
       "      <td>NaN</td>\n",
       "      <td>NaN</td>\n",
       "      <td>NaN</td>\n",
       "      <td>NaN</td>\n",
       "      <td>NaN</td>\n",
       "    </tr>\n",
       "    <tr>\n",
       "      <th>Android Ver</th>\n",
       "      <td>10838</td>\n",
       "      <td>33</td>\n",
       "      <td>4.1 and up</td>\n",
       "      <td>2451</td>\n",
       "      <td>NaN</td>\n",
       "      <td>NaN</td>\n",
       "      <td>NaN</td>\n",
       "      <td>NaN</td>\n",
       "      <td>NaN</td>\n",
       "      <td>NaN</td>\n",
       "      <td>NaN</td>\n",
       "    </tr>\n",
       "  </tbody>\n",
       "</table>\n",
       "</div>"
      ],
      "text/plain": [
       "                 count unique                 top   freq      mean       std  \\\n",
       "App              10841   9660              ROBLOX      9       NaN       NaN   \n",
       "Category         10841     34              FAMILY   1972       NaN       NaN   \n",
       "Rating          9367.0    NaN                 NaN    NaN  4.193338  0.537431   \n",
       "Reviews          10841   6002                   0    596       NaN       NaN   \n",
       "Size             10841    462  Varies with device   1695       NaN       NaN   \n",
       "Installs         10841     22          1,000,000+   1579       NaN       NaN   \n",
       "Type             10840      3                Free  10039       NaN       NaN   \n",
       "Price            10841     93                   0  10040       NaN       NaN   \n",
       "Content Rating   10840      6            Everyone   8714       NaN       NaN   \n",
       "Genres           10841    120               Tools    842       NaN       NaN   \n",
       "Last Updated     10841   1378      August 3, 2018    326       NaN       NaN   \n",
       "Current Ver      10833   2832  Varies with device   1459       NaN       NaN   \n",
       "Android Ver      10838     33          4.1 and up   2451       NaN       NaN   \n",
       "\n",
       "                min  25%  50%  75%   max  \n",
       "App             NaN  NaN  NaN  NaN   NaN  \n",
       "Category        NaN  NaN  NaN  NaN   NaN  \n",
       "Rating          1.0  4.0  4.3  4.5  19.0  \n",
       "Reviews         NaN  NaN  NaN  NaN   NaN  \n",
       "Size            NaN  NaN  NaN  NaN   NaN  \n",
       "Installs        NaN  NaN  NaN  NaN   NaN  \n",
       "Type            NaN  NaN  NaN  NaN   NaN  \n",
       "Price           NaN  NaN  NaN  NaN   NaN  \n",
       "Content Rating  NaN  NaN  NaN  NaN   NaN  \n",
       "Genres          NaN  NaN  NaN  NaN   NaN  \n",
       "Last Updated    NaN  NaN  NaN  NaN   NaN  \n",
       "Current Ver     NaN  NaN  NaN  NaN   NaN  \n",
       "Android Ver     NaN  NaN  NaN  NaN   NaN  "
      ]
     },
     "execution_count": 6,
     "metadata": {},
     "output_type": "execute_result"
    }
   ],
   "source": [
    "app.describe(include='all').T"
   ]
  },
  {
   "cell_type": "markdown",
   "id": "5be3258a",
   "metadata": {},
   "source": [
    "*  INFERENCE\n",
    "            \n",
    "            1. Except the Rating column all  looks to be the categorical variables. the maximum Rating is 19 and the minumum is 1\n",
    "            2. the standard Deviation for the Rating column is 0.537"
   ]
  },
  {
   "cell_type": "markdown",
   "id": "996172bf",
   "metadata": {},
   "source": [
    "# 4. Check if there are any duplicate records in the dataset? if any drop them."
   ]
  },
  {
   "cell_type": "code",
   "execution_count": 7,
   "id": "af79e439",
   "metadata": {},
   "outputs": [
    {
     "data": {
      "text/plain": [
       "False    10358\n",
       "True       483\n",
       "dtype: int64"
      ]
     },
     "execution_count": 7,
     "metadata": {},
     "output_type": "execute_result"
    }
   ],
   "source": [
    "app.duplicated().value_counts()"
   ]
  },
  {
   "cell_type": "markdown",
   "id": "c6951d1d",
   "metadata": {},
   "source": [
    "* there are 483 duplicates values in the records need to be treated\n",
    "\n",
    "* The remaining 10358 are original or unique data values"
   ]
  },
  {
   "cell_type": "code",
   "execution_count": 8,
   "id": "cff493fd",
   "metadata": {},
   "outputs": [],
   "source": [
    "# DROPPING THE DUPLICATES\n",
    "app.drop_duplicates(inplace=True)"
   ]
  },
  {
   "cell_type": "code",
   "execution_count": 9,
   "id": "28ada85b",
   "metadata": {},
   "outputs": [
    {
     "data": {
      "text/plain": [
       "False    10358\n",
       "dtype: int64"
      ]
     },
     "execution_count": 9,
     "metadata": {},
     "output_type": "execute_result"
    }
   ],
   "source": [
    "app.duplicated().value_counts()"
   ]
  },
  {
   "cell_type": "code",
   "execution_count": 10,
   "id": "76ef7665",
   "metadata": {},
   "outputs": [
    {
     "data": {
      "text/plain": [
       "(10358, 13)"
      ]
     },
     "execution_count": 10,
     "metadata": {},
     "output_type": "execute_result"
    }
   ],
   "source": [
    "app.shape"
   ]
  },
  {
   "cell_type": "markdown",
   "id": "5c6840ad",
   "metadata": {},
   "source": [
    "* After dropping the duplicates the row number is reduced to 10358 thereby changing the shape of the entire dataset"
   ]
  },
  {
   "cell_type": "markdown",
   "id": "73d04de1",
   "metadata": {},
   "source": [
    "# 5. Check the unique categories of the column 'Category', Is there any invalid category? If yes, drop them"
   ]
  },
  {
   "cell_type": "code",
   "execution_count": 11,
   "id": "4d6c08ae",
   "metadata": {},
   "outputs": [
    {
     "data": {
      "text/plain": [
       "FAMILY                 1943\n",
       "GAME                   1121\n",
       "TOOLS                   843\n",
       "BUSINESS                427\n",
       "MEDICAL                 408\n",
       "PRODUCTIVITY            407\n",
       "PERSONALIZATION         388\n",
       "LIFESTYLE               373\n",
       "COMMUNICATION           366\n",
       "FINANCE                 360\n",
       "SPORTS                  351\n",
       "PHOTOGRAPHY             322\n",
       "HEALTH_AND_FITNESS      306\n",
       "SOCIAL                  280\n",
       "NEWS_AND_MAGAZINES      264\n",
       "TRAVEL_AND_LOCAL        237\n",
       "BOOKS_AND_REFERENCE     230\n",
       "SHOPPING                224\n",
       "DATING                  196\n",
       "VIDEO_PLAYERS           175\n",
       "MAPS_AND_NAVIGATION     137\n",
       "EDUCATION               130\n",
       "FOOD_AND_DRINK          124\n",
       "ENTERTAINMENT           111\n",
       "AUTO_AND_VEHICLES        85\n",
       "LIBRARIES_AND_DEMO       85\n",
       "WEATHER                  82\n",
       "HOUSE_AND_HOME           80\n",
       "ART_AND_DESIGN           65\n",
       "EVENTS                   64\n",
       "PARENTING                60\n",
       "COMICS                   60\n",
       "BEAUTY                   53\n",
       "1.9                       1\n",
       "Name: Category, dtype: int64"
      ]
     },
     "execution_count": 11,
     "metadata": {},
     "output_type": "execute_result"
    }
   ],
   "source": [
    "app['Category'].value_counts()"
   ]
  },
  {
   "cell_type": "markdown",
   "id": "bc01cd57",
   "metadata": {},
   "source": [
    "* there is an invalid category of  '1.9'  is present in the last column with a value count of   '1'\n",
    "       \n",
    " * It need to be treated and removed from the entire dataset which is not a string value and remain in only one place.\n",
    "\n",
    "\n"
   ]
  },
  {
   "cell_type": "code",
   "execution_count": 12,
   "id": "b49839bc",
   "metadata": {},
   "outputs": [],
   "source": [
    "app = app[app['Category'] != '1.9']\n"
   ]
  },
  {
   "cell_type": "code",
   "execution_count": 13,
   "id": "6ccfbeea",
   "metadata": {},
   "outputs": [
    {
     "data": {
      "text/plain": [
       "FAMILY                 1943\n",
       "GAME                   1121\n",
       "TOOLS                   843\n",
       "BUSINESS                427\n",
       "MEDICAL                 408\n",
       "PRODUCTIVITY            407\n",
       "PERSONALIZATION         388\n",
       "LIFESTYLE               373\n",
       "COMMUNICATION           366\n",
       "FINANCE                 360\n",
       "SPORTS                  351\n",
       "PHOTOGRAPHY             322\n",
       "HEALTH_AND_FITNESS      306\n",
       "SOCIAL                  280\n",
       "NEWS_AND_MAGAZINES      264\n",
       "TRAVEL_AND_LOCAL        237\n",
       "BOOKS_AND_REFERENCE     230\n",
       "SHOPPING                224\n",
       "DATING                  196\n",
       "VIDEO_PLAYERS           175\n",
       "MAPS_AND_NAVIGATION     137\n",
       "EDUCATION               130\n",
       "FOOD_AND_DRINK          124\n",
       "ENTERTAINMENT           111\n",
       "AUTO_AND_VEHICLES        85\n",
       "LIBRARIES_AND_DEMO       85\n",
       "WEATHER                  82\n",
       "HOUSE_AND_HOME           80\n",
       "ART_AND_DESIGN           65\n",
       "EVENTS                   64\n",
       "PARENTING                60\n",
       "COMICS                   60\n",
       "BEAUTY                   53\n",
       "Name: Category, dtype: int64"
      ]
     },
     "execution_count": 13,
     "metadata": {},
     "output_type": "execute_result"
    }
   ],
   "source": [
    "app['Category'].value_counts()"
   ]
  },
  {
   "cell_type": "markdown",
   "id": "b6dcc9fa",
   "metadata": {},
   "source": [
    "\n",
    "* Here the unused category or invalid category is removed successfully \n",
    "* All other variables are useful or valid data in the given Category column\n",
    "\n"
   ]
  },
  {
   "cell_type": "code",
   "execution_count": 14,
   "id": "082da28a",
   "metadata": {},
   "outputs": [
    {
     "name": "stdout",
     "output_type": "stream",
     "text": [
      "<class 'pandas.core.frame.DataFrame'>\n",
      "Int64Index: 10357 entries, 0 to 10840\n",
      "Data columns (total 13 columns):\n",
      " #   Column          Non-Null Count  Dtype  \n",
      "---  ------          --------------  -----  \n",
      " 0   App             10357 non-null  object \n",
      " 1   Category        10357 non-null  object \n",
      " 2   Rating          8892 non-null   float64\n",
      " 3   Reviews         10357 non-null  object \n",
      " 4   Size            10357 non-null  object \n",
      " 5   Installs        10357 non-null  object \n",
      " 6   Type            10356 non-null  object \n",
      " 7   Price           10357 non-null  object \n",
      " 8   Content Rating  10357 non-null  object \n",
      " 9   Genres          10357 non-null  object \n",
      " 10  Last Updated    10357 non-null  object \n",
      " 11  Current Ver     10349 non-null  object \n",
      " 12  Android Ver     10355 non-null  object \n",
      "dtypes: float64(1), object(12)\n",
      "memory usage: 1.1+ MB\n"
     ]
    }
   ],
   "source": [
    "app.info()"
   ]
  },
  {
   "cell_type": "markdown",
   "id": "9656ab71",
   "metadata": {},
   "source": [
    "# 6. Check if there are missing values present in the column Rating, If any? drop them and and create a newcolumn as 'Rating_category' by converting ratings to high and low categories(>3.5 is high rest low)"
   ]
  },
  {
   "cell_type": "code",
   "execution_count": 15,
   "id": "0a6445c4",
   "metadata": {},
   "outputs": [
    {
     "data": {
      "text/plain": [
       "False    8892\n",
       "True     1465\n",
       "Name: Rating, dtype: int64"
      ]
     },
     "execution_count": 15,
     "metadata": {},
     "output_type": "execute_result"
    }
   ],
   "source": [
    "# Checking for missing value in the Column Rating\n",
    "app['Rating'].isnull().value_counts()"
   ]
  },
  {
   "cell_type": "markdown",
   "id": "65bf47d3",
   "metadata": {},
   "source": [
    "* There are 1465  missing values or null values are present in the dataset which are to be treated\n",
    "* here I assessed it to remove those values from the column\n"
   ]
  },
  {
   "cell_type": "code",
   "execution_count": 16,
   "id": "ba279cf0",
   "metadata": {},
   "outputs": [],
   "source": [
    "app= app.dropna(subset=['Rating'])\n"
   ]
  },
  {
   "cell_type": "code",
   "execution_count": 17,
   "id": "36b86eac",
   "metadata": {},
   "outputs": [
    {
     "data": {
      "text/plain": [
       "False    8892\n",
       "Name: Rating, dtype: int64"
      ]
     },
     "execution_count": 17,
     "metadata": {},
     "output_type": "execute_result"
    }
   ],
   "source": [
    "app['Rating'].isna().value_counts()"
   ]
  },
  {
   "cell_type": "code",
   "execution_count": 18,
   "id": "84cdde1a",
   "metadata": {},
   "outputs": [],
   "source": [
    "def rating(rate):\n",
    "    if rate > 3.5:\n",
    "        return 'high'\n",
    "    else:\n",
    "        return 'low'\n",
    "\n",
    "app['Rating_category'] = app['Rating'].apply(rating)\n"
   ]
  },
  {
   "cell_type": "markdown",
   "id": "fd09dfaa",
   "metadata": {},
   "source": [
    "* New \"Rating category\" column has been created succefully using the above condition as 'High' and 'Low'\n",
    "\n"
   ]
  },
  {
   "cell_type": "markdown",
   "id": "2d1eaeee",
   "metadata": {},
   "source": [
    "# 7. Check the distribution of the newly created column 'Rating_category' and comment on the distribution."
   ]
  },
  {
   "cell_type": "code",
   "execution_count": 19,
   "id": "67afabcd",
   "metadata": {},
   "outputs": [
    {
     "data": {
      "text/plain": [
       "high    8012\n",
       "low      880\n",
       "Name: Rating_category, dtype: int64"
      ]
     },
     "execution_count": 19,
     "metadata": {},
     "output_type": "execute_result"
    }
   ],
   "source": [
    "app['Rating_category'].value_counts()"
   ]
  },
  {
   "cell_type": "markdown",
   "id": "52a963f5",
   "metadata": {},
   "source": [
    "* 1.There are 8012 high ratings(>3.5)present in the Ratings column  which is newly created\n",
    "\n",
    "\n",
    "  2.There are 880 low ratings(<3.5) present in the ratings column which is newly created\n",
    "\n"
   ]
  },
  {
   "cell_type": "markdown",
   "id": "0ac2bbcc",
   "metadata": {},
   "source": [
    "# 8. Convert the column \"Reviews'' to numeric data type and check the presence of outliers in the column and handle the outliers using a transformation approach.(Hint: Use log transformation) "
   ]
  },
  {
   "cell_type": "code",
   "execution_count": 20,
   "id": "b439b2eb",
   "metadata": {},
   "outputs": [
    {
     "data": {
      "text/plain": [
       "2          82\n",
       "3          76\n",
       "5          74\n",
       "4          74\n",
       "1          67\n",
       "           ..\n",
       "3157936     1\n",
       "527247      1\n",
       "240475      1\n",
       "5282558     1\n",
       "398307      1\n",
       "Name: Reviews, Length: 5992, dtype: int64"
      ]
     },
     "execution_count": 20,
     "metadata": {},
     "output_type": "execute_result"
    }
   ],
   "source": [
    "app['Reviews'].value_counts()"
   ]
  },
  {
   "cell_type": "code",
   "execution_count": 21,
   "id": "45d2e09c",
   "metadata": {},
   "outputs": [
    {
     "data": {
      "text/plain": [
       "0           159\n",
       "1           967\n",
       "2         87510\n",
       "3        215644\n",
       "4           967\n",
       "          ...  \n",
       "10834         7\n",
       "10836        38\n",
       "10837         4\n",
       "10839       114\n",
       "10840    398307\n",
       "Name: Reviews, Length: 8892, dtype: int64"
      ]
     },
     "execution_count": 21,
     "metadata": {},
     "output_type": "execute_result"
    }
   ],
   "source": [
    "app['Reviews'] = p.to_numeric(app['Reviews'])\n",
    "app['Reviews']"
   ]
  },
  {
   "cell_type": "markdown",
   "id": "660b04db",
   "metadata": {},
   "source": [
    "* Now the entire column of REVIEWS has been converted to numerical column"
   ]
  },
  {
   "cell_type": "code",
   "execution_count": 22,
   "id": "3910ed02",
   "metadata": {},
   "outputs": [
    {
     "data": {
      "image/png": "[encoded data removed]",
      "text/plain": [
       "<Figure size 1000x500 with 1 Axes>"
      ]
     },
     "metadata": {},
     "output_type": "display_data"
    }
   ],
   "source": [
    "pl.figure(figsize=(10,5))\n",
    "sns.boxplot(y=app['Reviews'])\n",
    "pl.title(\"Reviews- Box Plot \")\n",
    "pl.show()"
   ]
  },
  {
   "cell_type": "code",
   "execution_count": 23,
   "id": "cd389891",
   "metadata": {},
   "outputs": [
    {
     "name": "stdout",
     "output_type": "stream",
     "text": [
      "Total Outliers in Review column are : 1555\n"
     ]
    }
   ],
   "source": [
    "Q1 = app['Reviews'].quantile(0.25)\n",
    "Q3 = app['Reviews'].quantile(0.75)\n",
    "IQR = Q3 - Q1\n",
    "\n",
    "IQR_threshold = 1.5\n",
    "\n",
    "outliers_low = app['Reviews'] < (Q1 - IQR_threshold * IQR)\n",
    "outliers_high = app['Reviews'] > (Q3 + IQR_threshold * IQR)\n",
    "\n",
    "#log transformation\n",
    "\n",
    "app.loc[outliers_low, 'Reviews'] = n.log1p(app.loc[outliers_low, 'Reviews'])\n",
    "app.loc[outliers_high, 'Reviews'] = n.log1p(app.loc[outliers_high, 'Reviews'])\n",
    "\n",
    "outliers = app[outliers_low | outliers_high]\n",
    "\n",
    "if outliers.empty:\n",
    "    print('No outliers present')\n",
    "else:\n",
    "    print(\"Total Outliers in Review column are :\",len(outliers))"
   ]
  },
  {
   "cell_type": "code",
   "execution_count": 24,
   "id": "3e3afe61",
   "metadata": {},
   "outputs": [
    {
     "data": {
      "image/png": "[encoded data removed]",
      "text/plain": [
       "<Figure size 1000x500 with 1 Axes>"
      ]
     },
     "metadata": {},
     "output_type": "display_data"
    }
   ],
   "source": [
    "# CAPPED BOX PLOT\n",
    "\n",
    "pl.figure(figsize=(10,5))\n",
    "sns.boxplot(y=n.log(app['Reviews']))\n",
    "pl.title(\"Reviews- Box Plot \")\n",
    "pl.show()"
   ]
  },
  {
   "cell_type": "markdown",
   "id": "af9bc3d6",
   "metadata": {},
   "source": [
    "* The outliers are successfully treated and hence there are capped successfully among the upper and lower Quartile Range values"
   ]
  },
  {
   "cell_type": "markdown",
   "id": "986c300d",
   "metadata": {},
   "source": [
    "# 9. The column 'Size' contains alphanumeric values, treat the non numeric data and convert the column into suitable data type. (hint: Replace M with 1 million and K with 1 thousand, and drop the entries where size='Varies with device')"
   ]
  },
  {
   "cell_type": "code",
   "execution_count": 25,
   "id": "99771e4d",
   "metadata": {},
   "outputs": [
    {
     "data": {
      "text/plain": [
       "Varies with device    1468\n",
       "14M                    154\n",
       "13M                    152\n",
       "12M                    151\n",
       "11M                    150\n",
       "                      ... \n",
       "383k                     1\n",
       "454k                     1\n",
       "812k                     1\n",
       "442k                     1\n",
       "619k                     1\n",
       "Name: Size, Length: 414, dtype: int64"
      ]
     },
     "execution_count": 25,
     "metadata": {},
     "output_type": "execute_result"
    }
   ],
   "source": [
    "app['Size'].value_counts()"
   ]
  },
  {
   "cell_type": "code",
   "execution_count": 26,
   "id": "8812eda4",
   "metadata": {},
   "outputs": [],
   "source": [
    "app['Size'] = app['Size'].replace({'M':'1e6','K':'1e3','Varies with device':'NaN'}, regex=True)\n",
    "app['Size'] = p.to_numeric(app['Size'], errors=\"coerce\")\n",
    "app[\"Size\"]= app[\"Size\"].dropna()\n",
    "app= app.dropna(subset = ['Size'])\n"
   ]
  },
  {
   "cell_type": "code",
   "execution_count": 27,
   "id": "ed361d10",
   "metadata": {},
   "outputs": [
    {
     "data": {
      "text/plain": [
       "0    191000000.0\n",
       "1    141000000.0\n",
       "2      8710000.0\n",
       "3    251000000.0\n",
       "4      2810000.0\n",
       "Name: Size, dtype: float64"
      ]
     },
     "execution_count": 27,
     "metadata": {},
     "output_type": "execute_result"
    }
   ],
   "source": [
    "app['Size'].head()"
   ]
  },
  {
   "cell_type": "markdown",
   "id": "25db224a",
   "metadata": {},
   "source": [
    "* After treatment the entire dataset is converted into float datatype"
   ]
  },
  {
   "cell_type": "markdown",
   "id": "069a973e",
   "metadata": {},
   "source": [
    "# 10. Check the column 'Installs', treat the unwanted characters and convert the column into a suitable data type."
   ]
  },
  {
   "cell_type": "code",
   "execution_count": 28,
   "id": "32a64afd",
   "metadata": {},
   "outputs": [
    {
     "data": {
      "text/plain": [
       "array(['10,000+', '500,000+', '5,000,000+', '50,000,000+', '100,000+',\n",
       "       '50,000+', '1,000,000+', '10,000,000+', '5,000+', '100,000,000+',\n",
       "       '1,000+', '500,000,000+', '100+', '500+', '10+', '1,000,000,000+',\n",
       "       '5+', '50+', '1+'], dtype=object)"
      ]
     },
     "execution_count": 28,
     "metadata": {},
     "output_type": "execute_result"
    }
   ],
   "source": [
    "app['Installs'].unique()\n",
    "\n",
    "\n",
    "\n"
   ]
  },
  {
   "cell_type": "code",
   "execution_count": 29,
   "id": "4d66b9de",
   "metadata": {},
   "outputs": [
    {
     "data": {
      "text/plain": [
       "0       10000\n",
       "1      500000\n",
       "2     5000000\n",
       "3    50000000\n",
       "4      100000\n",
       "Name: Installs, dtype: object"
      ]
     },
     "execution_count": 29,
     "metadata": {},
     "output_type": "execute_result"
    }
   ],
   "source": [
    "app['Installs'] = app['Installs'].str.replace(\"[+,]\",\"\")\n",
    "app['Installs'].head()"
   ]
  },
  {
   "cell_type": "code",
   "execution_count": 30,
   "id": "1f9f0661",
   "metadata": {},
   "outputs": [],
   "source": [
    "app['Installs']=app['Installs'].astype(int)\n"
   ]
  },
  {
   "cell_type": "code",
   "execution_count": 31,
   "id": "58e715b5",
   "metadata": {
    "scrolled": true
   },
   "outputs": [
    {
     "name": "stdout",
     "output_type": "stream",
     "text": [
      "<class 'pandas.core.series.Series'>\n",
      "Int64Index: 7167 entries, 0 to 10840\n",
      "Series name: Installs\n",
      "Non-Null Count  Dtype\n",
      "--------------  -----\n",
      "7167 non-null   int32\n",
      "dtypes: int32(1)\n",
      "memory usage: 84.0 KB\n"
     ]
    }
   ],
   "source": [
    "app['Installs'].info()"
   ]
  },
  {
   "cell_type": "markdown",
   "id": "79df8f46",
   "metadata": {},
   "source": [
    "* from the INSTALL column the special characters are succesfully removed and it is cleaned"
   ]
  },
  {
   "cell_type": "markdown",
   "id": "6cafd64d",
   "metadata": {},
   "source": [
    "# 11. Check the column 'Price' , remove the unwanted characters and convert the column into a suitable data type."
   ]
  },
  {
   "cell_type": "code",
   "execution_count": 32,
   "id": "750e0cf9",
   "metadata": {},
   "outputs": [
    {
     "data": {
      "text/plain": [
       "array(['0', '$4.99', '$6.99', '$7.99', '$3.99', '$5.99', '$2.99', '$1.99',\n",
       "       '$9.99', '$0.99', '$9.00', '$5.49', '$10.00', '$24.99', '$11.99',\n",
       "       '$79.99', '$16.99', '$14.99', '$29.99', '$12.99', '$3.49', '$7.49',\n",
       "       '$1.50', '$19.99', '$15.99', '$33.99', '$39.99', '$2.49', '$4.49',\n",
       "       '$1.70', '$1.49', '$3.88', '$399.99', '$17.99', '$400.00', '$3.02',\n",
       "       '$1.76', '$4.84', '$4.77', '$1.61', '$1.59', '$299.99', '$379.99',\n",
       "       '$37.99', '$18.99', '$389.99', '$8.49', '$1.75', '$14.00', '$2.00',\n",
       "       '$3.08', '$2.59', '$19.40', '$15.46', '$8.99', '$3.04', '$13.99',\n",
       "       '$4.29', '$3.28', '$4.60', '$1.00', '$10.99', '$2.90', '$1.97',\n",
       "       '$2.56', '$1.20'], dtype=object)"
      ]
     },
     "execution_count": 32,
     "metadata": {},
     "output_type": "execute_result"
    }
   ],
   "source": [
    "app['Price'].unique()"
   ]
  },
  {
   "cell_type": "code",
   "execution_count": 33,
   "id": "d1f1fcd6",
   "metadata": {},
   "outputs": [
    {
     "data": {
      "text/plain": [
       "0        0.0\n",
       "1        0.0\n",
       "2        0.0\n",
       "3        0.0\n",
       "4        0.0\n",
       "        ... \n",
       "10830    0.0\n",
       "10834    0.0\n",
       "10836    0.0\n",
       "10837    0.0\n",
       "10840    0.0\n",
       "Name: Price, Length: 7167, dtype: float64"
      ]
     },
     "execution_count": 33,
     "metadata": {},
     "output_type": "execute_result"
    }
   ],
   "source": [
    "\n",
    "app['Price'] = app['Price'].str.replace('[$,]','')\n",
    "app['Price'].astype(float)"
   ]
  },
  {
   "cell_type": "code",
   "execution_count": 34,
   "id": "a97a049f",
   "metadata": {},
   "outputs": [],
   "source": [
    "app[\"Price\"]=app['Price'].astype(float)"
   ]
  },
  {
   "cell_type": "markdown",
   "id": "f5aee444",
   "metadata": {},
   "source": [
    "# 12. Drop the columns which you think redundant for the analysis.(suggestion: drop column 'rating', since we created a new feature from it (i.e. rating_category) and the columns 'App', 'Rating' ,'Genres','Last Updated', 'Current Ver','Android Ver' columns since which are redundant for our analysis)"
   ]
  },
  {
   "cell_type": "code",
   "execution_count": 35,
   "id": "a81c85b9",
   "metadata": {},
   "outputs": [
    {
     "data": {
      "text/html": [
       "<div>\n",
       "<style scoped>\n",
       "    .dataframe tbody tr th:only-of-type {\n",
       "        vertical-align: middle;\n",
       "    }\n",
       "\n",
       "    .dataframe tbody tr th {\n",
       "        vertical-align: top;\n",
       "    }\n",
       "\n",
       "    .dataframe thead th {\n",
       "        text-align: right;\n",
       "    }\n",
       "</style>\n",
       "<table border=\"1\" class=\"dataframe\">\n",
       "  <thead>\n",
       "    <tr style=\"text-align: right;\">\n",
       "      <th></th>\n",
       "      <th>Category</th>\n",
       "      <th>Reviews</th>\n",
       "      <th>Size</th>\n",
       "      <th>Installs</th>\n",
       "      <th>Type</th>\n",
       "      <th>Price</th>\n",
       "      <th>Content Rating</th>\n",
       "      <th>Rating_category</th>\n",
       "    </tr>\n",
       "  </thead>\n",
       "  <tbody>\n",
       "    <tr>\n",
       "      <th>0</th>\n",
       "      <td>ART_AND_DESIGN</td>\n",
       "      <td>159.000000</td>\n",
       "      <td>191000000.0</td>\n",
       "      <td>10000</td>\n",
       "      <td>Free</td>\n",
       "      <td>0.0</td>\n",
       "      <td>Everyone</td>\n",
       "      <td>high</td>\n",
       "    </tr>\n",
       "    <tr>\n",
       "      <th>1</th>\n",
       "      <td>ART_AND_DESIGN</td>\n",
       "      <td>967.000000</td>\n",
       "      <td>141000000.0</td>\n",
       "      <td>500000</td>\n",
       "      <td>Free</td>\n",
       "      <td>0.0</td>\n",
       "      <td>Everyone</td>\n",
       "      <td>high</td>\n",
       "    </tr>\n",
       "    <tr>\n",
       "      <th>2</th>\n",
       "      <td>ART_AND_DESIGN</td>\n",
       "      <td>87510.000000</td>\n",
       "      <td>8710000.0</td>\n",
       "      <td>5000000</td>\n",
       "      <td>Free</td>\n",
       "      <td>0.0</td>\n",
       "      <td>Everyone</td>\n",
       "      <td>high</td>\n",
       "    </tr>\n",
       "    <tr>\n",
       "      <th>3</th>\n",
       "      <td>ART_AND_DESIGN</td>\n",
       "      <td>12.281389</td>\n",
       "      <td>251000000.0</td>\n",
       "      <td>50000000</td>\n",
       "      <td>Free</td>\n",
       "      <td>0.0</td>\n",
       "      <td>Teen</td>\n",
       "      <td>high</td>\n",
       "    </tr>\n",
       "    <tr>\n",
       "      <th>4</th>\n",
       "      <td>ART_AND_DESIGN</td>\n",
       "      <td>967.000000</td>\n",
       "      <td>2810000.0</td>\n",
       "      <td>100000</td>\n",
       "      <td>Free</td>\n",
       "      <td>0.0</td>\n",
       "      <td>Everyone</td>\n",
       "      <td>high</td>\n",
       "    </tr>\n",
       "  </tbody>\n",
       "</table>\n",
       "</div>"
      ],
      "text/plain": [
       "         Category       Reviews         Size  Installs  Type  Price  \\\n",
       "0  ART_AND_DESIGN    159.000000  191000000.0     10000  Free    0.0   \n",
       "1  ART_AND_DESIGN    967.000000  141000000.0    500000  Free    0.0   \n",
       "2  ART_AND_DESIGN  87510.000000    8710000.0   5000000  Free    0.0   \n",
       "3  ART_AND_DESIGN     12.281389  251000000.0  50000000  Free    0.0   \n",
       "4  ART_AND_DESIGN    967.000000    2810000.0    100000  Free    0.0   \n",
       "\n",
       "  Content Rating Rating_category  \n",
       "0       Everyone            high  \n",
       "1       Everyone            high  \n",
       "2       Everyone            high  \n",
       "3           Teen            high  \n",
       "4       Everyone            high  "
      ]
     },
     "execution_count": 35,
     "metadata": {},
     "output_type": "execute_result"
    }
   ],
   "source": [
    "Drops = ['App','Rating','Genres','Last Updated','Current Ver','Android Ver']\n",
    "app = app.drop(columns = Drops)\n",
    "app.head()"
   ]
  },
  {
   "cell_type": "markdown",
   "id": "f3bfb0e1",
   "metadata": {},
   "source": [
    "* The dropped columns are not necessary to do analysis. so, in the basic step of cleaning the data they are successfully removed from the dataset"
   ]
  },
  {
   "cell_type": "markdown",
   "id": "d0d7422e",
   "metadata": {},
   "source": [
    "# 13. Encode the categorical columns."
   ]
  },
  {
   "cell_type": "code",
   "execution_count": 36,
   "id": "7ff16e8a",
   "metadata": {},
   "outputs": [
    {
     "name": "stdout",
     "output_type": "stream",
     "text": [
      "1. Categorical values in  Content Rating column are:\n",
      " Everyone           5709\n",
      "Teen                826\n",
      "Mature 17+          331\n",
      "Everyone 10+        298\n",
      "Adults only 18+       2\n",
      "Unrated               1\n",
      "Name: Content Rating, dtype: int64\n",
      "\n",
      "\n",
      " 2. categorical values in Type column are:\n",
      " Free    6670\n",
      "Paid     497\n",
      "Name: Type, dtype: int64\n",
      "\n",
      "\n",
      " 3. categorical values in Rating_category column are:\n",
      " high    6385\n",
      "low      782\n",
      "Name: Rating_category, dtype: int64\n",
      "\n",
      "\n",
      " 4. categorical values in Category column are:\n",
      " FAMILY                 1569\n",
      "GAME                    956\n",
      "TOOLS                   564\n",
      "LIFESTYLE               265\n",
      "MEDICAL                 264\n",
      "FINANCE                 257\n",
      "PERSONALIZATION         255\n",
      "SPORTS                  231\n",
      "PHOTOGRAPHY             223\n",
      "BUSINESS                217\n",
      "PRODUCTIVITY            214\n",
      "HEALTH_AND_FITNESS      196\n",
      "COMMUNICATION           181\n",
      "SOCIAL                  168\n",
      "NEWS_AND_MAGAZINES      160\n",
      "SHOPPING                153\n",
      "TRAVEL_AND_LOCAL        146\n",
      "DATING                  141\n",
      "BOOKS_AND_REFERENCE     140\n",
      "VIDEO_PLAYERS           112\n",
      "MAPS_AND_NAVIGATION      93\n",
      "EDUCATION                93\n",
      "FOOD_AND_DRINK           82\n",
      "ENTERTAINMENT            67\n",
      "AUTO_AND_VEHICLES        62\n",
      "ART_AND_DESIGN           59\n",
      "HOUSE_AND_HOME           50\n",
      "WEATHER                  50\n",
      "COMICS                   47\n",
      "PARENTING                44\n",
      "EVENTS                   37\n",
      "BEAUTY                   37\n",
      "LIBRARIES_AND_DEMO       34\n",
      "Name: Category, dtype: int64\n"
     ]
    }
   ],
   "source": [
    "print(\"1. Categorical values in  Content Rating column are:\\n\",app['Content Rating'].value_counts())\n",
    "\n",
    "print(\"\\n\\n 2. categorical values in Type column are:\\n\",app['Type'].value_counts())\n",
    "\n",
    "print(\"\\n\\n 3. categorical values in Rating_category column are:\\n\",app['Rating_category'].value_counts())\n",
    "    \n",
    "print(\"\\n\\n 4. categorical values in Category column are:\\n\",app['Category'].value_counts())"
   ]
  },
  {
   "cell_type": "code",
   "execution_count": 37,
   "id": "28e612e5",
   "metadata": {},
   "outputs": [],
   "source": [
    "# assigning dummies \n",
    "app= p.get_dummies(app,columns=['Category'],prefix = 'Category')\n",
    "app= p.get_dummies(app,columns=['Type'],prefix = 'Type')\n",
    "app= p.get_dummies(app,columns=['Content Rating'],prefix = 'Content Rating')\n",
    "app= p.get_dummies(app,columns=['Rating_category'],prefix = 'Rating_category')\n",
    "\n"
   ]
  },
  {
   "cell_type": "code",
   "execution_count": 38,
   "id": "886c709c",
   "metadata": {
    "scrolled": true
   },
   "outputs": [
    {
     "data": {
      "text/html": [
       "<div>\n",
       "<style scoped>\n",
       "    .dataframe tbody tr th:only-of-type {\n",
       "        vertical-align: middle;\n",
       "    }\n",
       "\n",
       "    .dataframe tbody tr th {\n",
       "        vertical-align: top;\n",
       "    }\n",
       "\n",
       "    .dataframe thead th {\n",
       "        text-align: right;\n",
       "    }\n",
       "</style>\n",
       "<table border=\"1\" class=\"dataframe\">\n",
       "  <thead>\n",
       "    <tr style=\"text-align: right;\">\n",
       "      <th></th>\n",
       "      <th>Reviews</th>\n",
       "      <th>Size</th>\n",
       "      <th>Installs</th>\n",
       "      <th>Price</th>\n",
       "      <th>Category_ART_AND_DESIGN</th>\n",
       "      <th>Category_AUTO_AND_VEHICLES</th>\n",
       "      <th>Category_BEAUTY</th>\n",
       "      <th>Category_BOOKS_AND_REFERENCE</th>\n",
       "      <th>Category_BUSINESS</th>\n",
       "      <th>Category_COMICS</th>\n",
       "      <th>...</th>\n",
       "      <th>Type_Free</th>\n",
       "      <th>Type_Paid</th>\n",
       "      <th>Content Rating_Adults only 18+</th>\n",
       "      <th>Content Rating_Everyone</th>\n",
       "      <th>Content Rating_Everyone 10+</th>\n",
       "      <th>Content Rating_Mature 17+</th>\n",
       "      <th>Content Rating_Teen</th>\n",
       "      <th>Content Rating_Unrated</th>\n",
       "      <th>Rating_category_high</th>\n",
       "      <th>Rating_category_low</th>\n",
       "    </tr>\n",
       "  </thead>\n",
       "  <tbody>\n",
       "    <tr>\n",
       "      <th>0</th>\n",
       "      <td>159.000000</td>\n",
       "      <td>191000000.0</td>\n",
       "      <td>10000</td>\n",
       "      <td>0.0</td>\n",
       "      <td>1</td>\n",
       "      <td>0</td>\n",
       "      <td>0</td>\n",
       "      <td>0</td>\n",
       "      <td>0</td>\n",
       "      <td>0</td>\n",
       "      <td>...</td>\n",
       "      <td>1</td>\n",
       "      <td>0</td>\n",
       "      <td>0</td>\n",
       "      <td>1</td>\n",
       "      <td>0</td>\n",
       "      <td>0</td>\n",
       "      <td>0</td>\n",
       "      <td>0</td>\n",
       "      <td>1</td>\n",
       "      <td>0</td>\n",
       "    </tr>\n",
       "    <tr>\n",
       "      <th>1</th>\n",
       "      <td>967.000000</td>\n",
       "      <td>141000000.0</td>\n",
       "      <td>500000</td>\n",
       "      <td>0.0</td>\n",
       "      <td>1</td>\n",
       "      <td>0</td>\n",
       "      <td>0</td>\n",
       "      <td>0</td>\n",
       "      <td>0</td>\n",
       "      <td>0</td>\n",
       "      <td>...</td>\n",
       "      <td>1</td>\n",
       "      <td>0</td>\n",
       "      <td>0</td>\n",
       "      <td>1</td>\n",
       "      <td>0</td>\n",
       "      <td>0</td>\n",
       "      <td>0</td>\n",
       "      <td>0</td>\n",
       "      <td>1</td>\n",
       "      <td>0</td>\n",
       "    </tr>\n",
       "    <tr>\n",
       "      <th>2</th>\n",
       "      <td>87510.000000</td>\n",
       "      <td>8710000.0</td>\n",
       "      <td>5000000</td>\n",
       "      <td>0.0</td>\n",
       "      <td>1</td>\n",
       "      <td>0</td>\n",
       "      <td>0</td>\n",
       "      <td>0</td>\n",
       "      <td>0</td>\n",
       "      <td>0</td>\n",
       "      <td>...</td>\n",
       "      <td>1</td>\n",
       "      <td>0</td>\n",
       "      <td>0</td>\n",
       "      <td>1</td>\n",
       "      <td>0</td>\n",
       "      <td>0</td>\n",
       "      <td>0</td>\n",
       "      <td>0</td>\n",
       "      <td>1</td>\n",
       "      <td>0</td>\n",
       "    </tr>\n",
       "    <tr>\n",
       "      <th>3</th>\n",
       "      <td>12.281389</td>\n",
       "      <td>251000000.0</td>\n",
       "      <td>50000000</td>\n",
       "      <td>0.0</td>\n",
       "      <td>1</td>\n",
       "      <td>0</td>\n",
       "      <td>0</td>\n",
       "      <td>0</td>\n",
       "      <td>0</td>\n",
       "      <td>0</td>\n",
       "      <td>...</td>\n",
       "      <td>1</td>\n",
       "      <td>0</td>\n",
       "      <td>0</td>\n",
       "      <td>0</td>\n",
       "      <td>0</td>\n",
       "      <td>0</td>\n",
       "      <td>1</td>\n",
       "      <td>0</td>\n",
       "      <td>1</td>\n",
       "      <td>0</td>\n",
       "    </tr>\n",
       "    <tr>\n",
       "      <th>4</th>\n",
       "      <td>967.000000</td>\n",
       "      <td>2810000.0</td>\n",
       "      <td>100000</td>\n",
       "      <td>0.0</td>\n",
       "      <td>1</td>\n",
       "      <td>0</td>\n",
       "      <td>0</td>\n",
       "      <td>0</td>\n",
       "      <td>0</td>\n",
       "      <td>0</td>\n",
       "      <td>...</td>\n",
       "      <td>1</td>\n",
       "      <td>0</td>\n",
       "      <td>0</td>\n",
       "      <td>1</td>\n",
       "      <td>0</td>\n",
       "      <td>0</td>\n",
       "      <td>0</td>\n",
       "      <td>0</td>\n",
       "      <td>1</td>\n",
       "      <td>0</td>\n",
       "    </tr>\n",
       "  </tbody>\n",
       "</table>\n",
       "<p>5 rows × 47 columns</p>\n",
       "</div>"
      ],
      "text/plain": [
       "        Reviews         Size  Installs  Price  Category_ART_AND_DESIGN  \\\n",
       "0    159.000000  191000000.0     10000    0.0                        1   \n",
       "1    967.000000  141000000.0    500000    0.0                        1   \n",
       "2  87510.000000    8710000.0   5000000    0.0                        1   \n",
       "3     12.281389  251000000.0  50000000    0.0                        1   \n",
       "4    967.000000    2810000.0    100000    0.0                        1   \n",
       "\n",
       "   Category_AUTO_AND_VEHICLES  Category_BEAUTY  Category_BOOKS_AND_REFERENCE  \\\n",
       "0                           0                0                             0   \n",
       "1                           0                0                             0   \n",
       "2                           0                0                             0   \n",
       "3                           0                0                             0   \n",
       "4                           0                0                             0   \n",
       "\n",
       "   Category_BUSINESS  Category_COMICS  ...  Type_Free  Type_Paid  \\\n",
       "0                  0                0  ...          1          0   \n",
       "1                  0                0  ...          1          0   \n",
       "2                  0                0  ...          1          0   \n",
       "3                  0                0  ...          1          0   \n",
       "4                  0                0  ...          1          0   \n",
       "\n",
       "   Content Rating_Adults only 18+  Content Rating_Everyone  \\\n",
       "0                               0                        1   \n",
       "1                               0                        1   \n",
       "2                               0                        1   \n",
       "3                               0                        0   \n",
       "4                               0                        1   \n",
       "\n",
       "   Content Rating_Everyone 10+  Content Rating_Mature 17+  \\\n",
       "0                            0                          0   \n",
       "1                            0                          0   \n",
       "2                            0                          0   \n",
       "3                            0                          0   \n",
       "4                            0                          0   \n",
       "\n",
       "   Content Rating_Teen  Content Rating_Unrated  Rating_category_high  \\\n",
       "0                    0                       0                     1   \n",
       "1                    0                       0                     1   \n",
       "2                    0                       0                     1   \n",
       "3                    1                       0                     1   \n",
       "4                    0                       0                     1   \n",
       "\n",
       "   Rating_category_low  \n",
       "0                    0  \n",
       "1                    0  \n",
       "2                    0  \n",
       "3                    0  \n",
       "4                    0  \n",
       "\n",
       "[5 rows x 47 columns]"
      ]
     },
     "execution_count": 38,
     "metadata": {},
     "output_type": "execute_result"
    }
   ],
   "source": [
    "app.head()"
   ]
  },
  {
   "cell_type": "markdown",
   "id": "ea981b62",
   "metadata": {},
   "source": [
    "* These Categorical Columns are encoded based on their levels of each and individual column\n",
    "\n",
    "* Now they can be used in modelling as it is defined by the numerical values of \"0\" & \"1\" which is done by using the one-heart encoding"
   ]
  },
  {
   "cell_type": "markdown",
   "id": "b34a0523",
   "metadata": {},
   "source": [
    "# 14. Segregate the target and independent features (Hint: Use Rating_category as the target)"
   ]
  },
  {
   "cell_type": "code",
   "execution_count": 39,
   "id": "dd31fb15",
   "metadata": {},
   "outputs": [],
   "source": [
    "# INDEPENDENT  VARIABLE\n",
    "x=app.drop([\"Rating_category_high\",\"Rating_category_low\"], axis=1)\n",
    "\n",
    "\n",
    "## TARGET VARIABLE\n",
    "y= app[[\"Rating_category_high\",\"Rating_category_low\"]]"
   ]
  },
  {
   "cell_type": "code",
   "execution_count": 40,
   "id": "35f127b4",
   "metadata": {},
   "outputs": [
    {
     "name": "stdout",
     "output_type": "stream",
     "text": [
      "<class 'pandas.core.frame.DataFrame'>\n",
      "Int64Index: 7167 entries, 0 to 10840\n",
      "Data columns (total 45 columns):\n",
      " #   Column                          Non-Null Count  Dtype  \n",
      "---  ------                          --------------  -----  \n",
      " 0   Reviews                         7167 non-null   float64\n",
      " 1   Size                            7167 non-null   float64\n",
      " 2   Installs                        7167 non-null   int32  \n",
      " 3   Price                           7167 non-null   float64\n",
      " 4   Category_ART_AND_DESIGN         7167 non-null   uint8  \n",
      " 5   Category_AUTO_AND_VEHICLES      7167 non-null   uint8  \n",
      " 6   Category_BEAUTY                 7167 non-null   uint8  \n",
      " 7   Category_BOOKS_AND_REFERENCE    7167 non-null   uint8  \n",
      " 8   Category_BUSINESS               7167 non-null   uint8  \n",
      " 9   Category_COMICS                 7167 non-null   uint8  \n",
      " 10  Category_COMMUNICATION          7167 non-null   uint8  \n",
      " 11  Category_DATING                 7167 non-null   uint8  \n",
      " 12  Category_EDUCATION              7167 non-null   uint8  \n",
      " 13  Category_ENTERTAINMENT          7167 non-null   uint8  \n",
      " 14  Category_EVENTS                 7167 non-null   uint8  \n",
      " 15  Category_FAMILY                 7167 non-null   uint8  \n",
      " 16  Category_FINANCE                7167 non-null   uint8  \n",
      " 17  Category_FOOD_AND_DRINK         7167 non-null   uint8  \n",
      " 18  Category_GAME                   7167 non-null   uint8  \n",
      " 19  Category_HEALTH_AND_FITNESS     7167 non-null   uint8  \n",
      " 20  Category_HOUSE_AND_HOME         7167 non-null   uint8  \n",
      " 21  Category_LIBRARIES_AND_DEMO     7167 non-null   uint8  \n",
      " 22  Category_LIFESTYLE              7167 non-null   uint8  \n",
      " 23  Category_MAPS_AND_NAVIGATION    7167 non-null   uint8  \n",
      " 24  Category_MEDICAL                7167 non-null   uint8  \n",
      " 25  Category_NEWS_AND_MAGAZINES     7167 non-null   uint8  \n",
      " 26  Category_PARENTING              7167 non-null   uint8  \n",
      " 27  Category_PERSONALIZATION        7167 non-null   uint8  \n",
      " 28  Category_PHOTOGRAPHY            7167 non-null   uint8  \n",
      " 29  Category_PRODUCTIVITY           7167 non-null   uint8  \n",
      " 30  Category_SHOPPING               7167 non-null   uint8  \n",
      " 31  Category_SOCIAL                 7167 non-null   uint8  \n",
      " 32  Category_SPORTS                 7167 non-null   uint8  \n",
      " 33  Category_TOOLS                  7167 non-null   uint8  \n",
      " 34  Category_TRAVEL_AND_LOCAL       7167 non-null   uint8  \n",
      " 35  Category_VIDEO_PLAYERS          7167 non-null   uint8  \n",
      " 36  Category_WEATHER                7167 non-null   uint8  \n",
      " 37  Type_Free                       7167 non-null   uint8  \n",
      " 38  Type_Paid                       7167 non-null   uint8  \n",
      " 39  Content Rating_Adults only 18+  7167 non-null   uint8  \n",
      " 40  Content Rating_Everyone         7167 non-null   uint8  \n",
      " 41  Content Rating_Everyone 10+     7167 non-null   uint8  \n",
      " 42  Content Rating_Mature 17+       7167 non-null   uint8  \n",
      " 43  Content Rating_Teen             7167 non-null   uint8  \n",
      " 44  Content Rating_Unrated          7167 non-null   uint8  \n",
      "dtypes: float64(3), int32(1), uint8(41)\n",
      "memory usage: 538.9 KB\n"
     ]
    }
   ],
   "source": [
    "x.info()"
   ]
  },
  {
   "cell_type": "markdown",
   "id": "c6e91dee",
   "metadata": {},
   "source": [
    "# 15. Split the dataset into train and test."
   ]
  },
  {
   "cell_type": "code",
   "execution_count": 41,
   "id": "ded82aca",
   "metadata": {},
   "outputs": [],
   "source": [
    "app[\"Price\"]=app[\"Price\"].astype(float)"
   ]
  },
  {
   "cell_type": "code",
   "execution_count": 42,
   "id": "c27ec3f1",
   "metadata": {},
   "outputs": [],
   "source": [
    "from sklearn.model_selection import train_test_split\n",
    "\n",
    "\n",
    "\n",
    "X_train, X_test, y_train, y_test = train_test_split(x, y, test_size=0.30 , random_state=1)"
   ]
  },
  {
   "cell_type": "code",
   "execution_count": 43,
   "id": "c900de79",
   "metadata": {},
   "outputs": [
    {
     "name": "stdout",
     "output_type": "stream",
     "text": [
      "<class 'pandas.core.frame.DataFrame'>\n",
      "Int64Index: 5016 entries, 4007 to 7917\n",
      "Data columns (total 45 columns):\n",
      " #   Column                          Non-Null Count  Dtype  \n",
      "---  ------                          --------------  -----  \n",
      " 0   Reviews                         5016 non-null   float64\n",
      " 1   Size                            5016 non-null   float64\n",
      " 2   Installs                        5016 non-null   int32  \n",
      " 3   Price                           5016 non-null   float64\n",
      " 4   Category_ART_AND_DESIGN         5016 non-null   uint8  \n",
      " 5   Category_AUTO_AND_VEHICLES      5016 non-null   uint8  \n",
      " 6   Category_BEAUTY                 5016 non-null   uint8  \n",
      " 7   Category_BOOKS_AND_REFERENCE    5016 non-null   uint8  \n",
      " 8   Category_BUSINESS               5016 non-null   uint8  \n",
      " 9   Category_COMICS                 5016 non-null   uint8  \n",
      " 10  Category_COMMUNICATION          5016 non-null   uint8  \n",
      " 11  Category_DATING                 5016 non-null   uint8  \n",
      " 12  Category_EDUCATION              5016 non-null   uint8  \n",
      " 13  Category_ENTERTAINMENT          5016 non-null   uint8  \n",
      " 14  Category_EVENTS                 5016 non-null   uint8  \n",
      " 15  Category_FAMILY                 5016 non-null   uint8  \n",
      " 16  Category_FINANCE                5016 non-null   uint8  \n",
      " 17  Category_FOOD_AND_DRINK         5016 non-null   uint8  \n",
      " 18  Category_GAME                   5016 non-null   uint8  \n",
      " 19  Category_HEALTH_AND_FITNESS     5016 non-null   uint8  \n",
      " 20  Category_HOUSE_AND_HOME         5016 non-null   uint8  \n",
      " 21  Category_LIBRARIES_AND_DEMO     5016 non-null   uint8  \n",
      " 22  Category_LIFESTYLE              5016 non-null   uint8  \n",
      " 23  Category_MAPS_AND_NAVIGATION    5016 non-null   uint8  \n",
      " 24  Category_MEDICAL                5016 non-null   uint8  \n",
      " 25  Category_NEWS_AND_MAGAZINES     5016 non-null   uint8  \n",
      " 26  Category_PARENTING              5016 non-null   uint8  \n",
      " 27  Category_PERSONALIZATION        5016 non-null   uint8  \n",
      " 28  Category_PHOTOGRAPHY            5016 non-null   uint8  \n",
      " 29  Category_PRODUCTIVITY           5016 non-null   uint8  \n",
      " 30  Category_SHOPPING               5016 non-null   uint8  \n",
      " 31  Category_SOCIAL                 5016 non-null   uint8  \n",
      " 32  Category_SPORTS                 5016 non-null   uint8  \n",
      " 33  Category_TOOLS                  5016 non-null   uint8  \n",
      " 34  Category_TRAVEL_AND_LOCAL       5016 non-null   uint8  \n",
      " 35  Category_VIDEO_PLAYERS          5016 non-null   uint8  \n",
      " 36  Category_WEATHER                5016 non-null   uint8  \n",
      " 37  Type_Free                       5016 non-null   uint8  \n",
      " 38  Type_Paid                       5016 non-null   uint8  \n",
      " 39  Content Rating_Adults only 18+  5016 non-null   uint8  \n",
      " 40  Content Rating_Everyone         5016 non-null   uint8  \n",
      " 41  Content Rating_Everyone 10+     5016 non-null   uint8  \n",
      " 42  Content Rating_Mature 17+       5016 non-null   uint8  \n",
      " 43  Content Rating_Teen             5016 non-null   uint8  \n",
      " 44  Content Rating_Unrated          5016 non-null   uint8  \n",
      "dtypes: float64(3), int32(1), uint8(41)\n",
      "memory usage: 377.2 KB\n"
     ]
    }
   ],
   "source": [
    "X_train.info()"
   ]
  },
  {
   "cell_type": "markdown",
   "id": "2d4b8e0d",
   "metadata": {},
   "source": [
    "# 16. Standardize the data, so that the values are within a particular range.\n"
   ]
  },
  {
   "cell_type": "code",
   "execution_count": 44,
   "id": "7774c8e7",
   "metadata": {},
   "outputs": [],
   "source": [
    "from sklearn.preprocessing import StandardScaler\n",
    "\n",
    "\n",
    "\n",
    "from scipy.stats import stats\n",
    "from scipy.stats import zscore"
   ]
  },
  {
   "cell_type": "code",
   "execution_count": 45,
   "id": "454ac2c2",
   "metadata": {},
   "outputs": [],
   "source": [
    "X_train_scaled= stats.zscore(X_train)\n",
    "X_test_scaled=stats.zscore(X_test) \n",
    "y_train_scaled= stats.zscore(y_train)\n",
    "y_test_scaled=stats.zscore(y_test) \n"
   ]
  },
  {
   "cell_type": "code",
   "execution_count": 46,
   "id": "c302a17f",
   "metadata": {},
   "outputs": [
    {
     "name": "stdout",
     "output_type": "stream",
     "text": [
      "X_train scaled:\n",
      "         Reviews      Size  Installs    Price  Category_ART_AND_DESIGN  \\\n",
      "4007  -0.207500 -0.235683 -0.157619 -0.06528                -0.095145   \n",
      "5556  -0.454896  2.393688 -0.180436 -0.06528                -0.095145   \n",
      "1179   0.558435 -0.355200 -0.157619 -0.06528                -0.095145   \n",
      "8405   0.625337  0.481418 -0.157619 -0.06528                -0.095145   \n",
      "10206  1.896492 -0.859919 -0.157619 -0.06528                -0.095145   \n",
      "...         ...       ...       ...      ...                      ...   \n",
      "1538  -0.452528 -0.395039 -0.180436 -0.06528                -0.095145   \n",
      "7955  -0.441485 -0.076327 -0.178362 -0.06528                -0.095145   \n",
      "6083   1.899875  0.083029 -0.157619 -0.06528                -0.095145   \n",
      "350    0.678519 -0.850756 -0.065428 -0.06528                -0.095145   \n",
      "7917  -0.431765 -0.851155 -0.179514 -0.06528                -0.095145   \n",
      "\n",
      "       Category_AUTO_AND_VEHICLES  Category_BEAUTY  \\\n",
      "4007                    -0.095145        -0.073566   \n",
      "5556                    -0.095145        -0.073566   \n",
      "1179                    -0.095145        -0.073566   \n",
      "8405                    -0.095145        -0.073566   \n",
      "10206                   -0.095145        -0.073566   \n",
      "...                           ...              ...   \n",
      "1538                    -0.095145        -0.073566   \n",
      "7955                    -0.095145        -0.073566   \n",
      "6083                    -0.095145        -0.073566   \n",
      "350                     -0.095145        -0.073566   \n",
      "7917                    -0.095145        -0.073566   \n",
      "\n",
      "       Category_BOOKS_AND_REFERENCE  Category_BUSINESS  Category_COMICS  ...  \\\n",
      "4007                      -0.146221          -0.180343        -0.078858  ...   \n",
      "5556                      -0.146221          -0.180343        -0.078858  ...   \n",
      "1179                      -0.146221          -0.180343        -0.078858  ...   \n",
      "8405                      -0.146221          -0.180343        -0.078858  ...   \n",
      "10206                     -0.146221          -0.180343        -0.078858  ...   \n",
      "...                             ...                ...              ...  ...   \n",
      "1538                      -0.146221          -0.180343        -0.078858  ...   \n",
      "7955                      -0.146221           5.544983        -0.078858  ...   \n",
      "6083                      -0.146221          -0.180343        -0.078858  ...   \n",
      "350                       -0.146221          -0.180343        -0.078858  ...   \n",
      "7917                      -0.146221          -0.180343        -0.078858  ...   \n",
      "\n",
      "       Category_VIDEO_PLAYERS  Category_WEATHER  Type_Free  Type_Paid  \\\n",
      "4007                -0.128115         -0.081379   0.268373  -0.268373   \n",
      "5556                -0.128115         -0.081379   0.268373  -0.268373   \n",
      "1179                -0.128115         -0.081379   0.268373  -0.268373   \n",
      "8405                -0.128115         -0.081379   0.268373  -0.268373   \n",
      "10206               -0.128115         -0.081379   0.268373  -0.268373   \n",
      "...                       ...               ...        ...        ...   \n",
      "1538                -0.128115         -0.081379   0.268373  -0.268373   \n",
      "7955                -0.128115         -0.081379   0.268373  -0.268373   \n",
      "6083                -0.128115         -0.081379   0.268373  -0.268373   \n",
      "350                 -0.128115         -0.081379   0.268373  -0.268373   \n",
      "7917                -0.128115         -0.081379   0.268373  -0.268373   \n",
      "\n",
      "       Content Rating_Adults only 18+  Content Rating_Everyone  \\\n",
      "4007                        -0.014121                -1.975658   \n",
      "5556                        -0.014121                 0.506160   \n",
      "1179                        -0.014121                 0.506160   \n",
      "8405                        -0.014121                -1.975658   \n",
      "10206                       -0.014121                -1.975658   \n",
      "...                               ...                      ...   \n",
      "1538                        -0.014121                 0.506160   \n",
      "7955                        -0.014121                 0.506160   \n",
      "6083                        -0.014121                -1.975658   \n",
      "350                         -0.014121                 0.506160   \n",
      "7917                        -0.014121                 0.506160   \n",
      "\n",
      "       Content Rating_Everyone 10+  Content Rating_Mature 17+  \\\n",
      "4007                     -0.207993                   4.431927   \n",
      "5556                     -0.207993                  -0.225635   \n",
      "1179                     -0.207993                  -0.225635   \n",
      "8405                     -0.207993                  -0.225635   \n",
      "10206                    -0.207993                  -0.225635   \n",
      "...                            ...                        ...   \n",
      "1538                     -0.207993                  -0.225635   \n",
      "7955                     -0.207993                  -0.225635   \n",
      "6083                      4.807846                  -0.225635   \n",
      "350                      -0.207993                  -0.225635   \n",
      "7917                     -0.207993                  -0.225635   \n",
      "\n",
      "       Content Rating_Teen  Content Rating_Unrated  \n",
      "4007             -0.358412                     NaN  \n",
      "5556             -0.358412                     NaN  \n",
      "1179             -0.358412                     NaN  \n",
      "8405              2.790088                     NaN  \n",
      "10206             2.790088                     NaN  \n",
      "...                    ...                     ...  \n",
      "1538             -0.358412                     NaN  \n",
      "7955             -0.358412                     NaN  \n",
      "6083             -0.358412                     NaN  \n",
      "350              -0.358412                     NaN  \n",
      "7917             -0.358412                     NaN  \n",
      "\n",
      "[5016 rows x 45 columns]\n",
      "\n",
      "\n",
      "y_train scaled:\n",
      "        Rating_category_high  Rating_category_low\n",
      "4007               0.351289            -0.351289\n",
      "5556              -2.846656             2.846656\n",
      "1179               0.351289            -0.351289\n",
      "8405               0.351289            -0.351289\n",
      "10206              0.351289            -0.351289\n",
      "...                     ...                  ...\n",
      "1538               0.351289            -0.351289\n",
      "7955               0.351289            -0.351289\n",
      "6083               0.351289            -0.351289\n",
      "350                0.351289            -0.351289\n",
      "7917              -2.846656             2.846656\n",
      "\n",
      "[5016 rows x 2 columns]\n"
     ]
    }
   ],
   "source": [
    "print(\"X_train scaled:\\n\", X_train_scaled )\n",
    "print(\"\\n\\ny_train scaled:\\n\", y_train_scaled)\n"
   ]
  },
  {
   "cell_type": "markdown",
   "id": "41c95993",
   "metadata": {},
   "source": [
    "* Previous dataset are on their own and different scale from each other\n",
    "* Now ,With the help of z score method we have converted the entire data into same scale.\n",
    "* Now, the app_data can be used in MODELLING AND ANALYSIS  which is the ultimate aim to analyse the dataset."
   ]
  },
  {
   "cell_type": "code",
   "execution_count": null,
   "id": "156c5d0c",
   "metadata": {},
   "outputs": [],
   "source": []
  }
 ],
 "metadata": {
  "kernelspec": {
   "display_name": "Python 3 (ipykernel)",
   "language": "python",
   "name": "python3"
  },
  "language_info": {
   "codemirror_mode": {
    "name": "ipython",
    "version": 3
   },
   "file_extension": ".py",
   "mimetype": "text/x-python",
   "name": "python",
   "nbconvert_exporter": "python",
   "pygments_lexer": "ipython3",
   "version": "3.11.4"
  }
 },
 "nbformat": 4,
 "nbformat_minor": 5
}
